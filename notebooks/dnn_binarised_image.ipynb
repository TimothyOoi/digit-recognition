{
 "cells": [
  {
   "cell_type": "code",
   "execution_count": 1,
   "id": "44f90310",
   "metadata": {
    "_cell_guid": "b1076dfc-b9ad-4769-8c92-a6c4dae69d19",
    "_uuid": "8f2839f25d086af736a60e9eeb907d3b93b6e0e5",
    "execution": {
     "iopub.execute_input": "2023-06-28T10:24:28.952926Z",
     "iopub.status.busy": "2023-06-28T10:24:28.952450Z",
     "iopub.status.idle": "2023-06-28T10:24:28.969812Z",
     "shell.execute_reply": "2023-06-28T10:24:28.968850Z"
    },
    "papermill": {
     "duration": 0.035731,
     "end_time": "2023-06-28T10:24:28.972551",
     "exception": false,
     "start_time": "2023-06-28T10:24:28.936820",
     "status": "completed"
    },
    "tags": []
   },
   "outputs": [
    {
     "name": "stdout",
     "output_type": "stream",
     "text": [
      "/kaggle/input/digit-recognizer/sample_submission.csv\n",
      "/kaggle/input/digit-recognizer/train.csv\n",
      "/kaggle/input/digit-recognizer/test.csv\n"
     ]
    }
   ],
   "source": [
    "# This Python 3 environment comes with many helpful analytics libraries installed\n",
    "# It is defined by the kaggle/python Docker image: https://github.com/kaggle/docker-python\n",
    "# For example, here's several helpful packages to load\n",
    "\n",
    "import numpy as np # linear algebra\n",
    "import pandas as pd # data processing, CSV file I/O (e.g. pd.read_csv)\n",
    "\n",
    "# Input data files are available in the read-only \"../input/\" directory\n",
    "# For example, running this (by clicking run or pressing Shift+Enter) will list all files under the input directory\n",
    "\n",
    "import os\n",
    "for dirname, _, filenames in os.walk('/kaggle/input'):\n",
    "    for filename in filenames:\n",
    "        print(os.path.join(dirname, filename))\n",
    "\n",
    "# You can write up to 20GB to the current directory (/kaggle/working/) that gets preserved as output when you create a version using \"Save & Run All\" \n",
    "# You can also write temporary files to /kaggle/temp/, but they won't be saved outside of the current session"
   ]
  },
  {
   "cell_type": "code",
   "execution_count": 2,
   "id": "158aaa8b",
   "metadata": {
    "execution": {
     "iopub.execute_input": "2023-06-28T10:24:28.994581Z",
     "iopub.status.busy": "2023-06-28T10:24:28.994169Z",
     "iopub.status.idle": "2023-06-28T10:24:40.908721Z",
     "shell.execute_reply": "2023-06-28T10:24:40.907632Z"
    },
    "papermill": {
     "duration": 11.929098,
     "end_time": "2023-06-28T10:24:40.911788",
     "exception": false,
     "start_time": "2023-06-28T10:24:28.982690",
     "status": "completed"
    },
    "tags": []
   },
   "outputs": [
    {
     "name": "stderr",
     "output_type": "stream",
     "text": [
      "/opt/conda/lib/python3.10/site-packages/tensorflow_io/python/ops/__init__.py:98: UserWarning: unable to load libtensorflow_io_plugins.so: unable to open file: libtensorflow_io_plugins.so, from paths: ['/opt/conda/lib/python3.10/site-packages/tensorflow_io/python/ops/libtensorflow_io_plugins.so']\n",
      "caused by: ['/opt/conda/lib/python3.10/site-packages/tensorflow_io/python/ops/libtensorflow_io_plugins.so: undefined symbol: _ZN3tsl6StatusC1EN10tensorflow5error4CodeESt17basic_string_viewIcSt11char_traitsIcEENS_14SourceLocationE']\n",
      "  warnings.warn(f\"unable to load libtensorflow_io_plugins.so: {e}\")\n",
      "/opt/conda/lib/python3.10/site-packages/tensorflow_io/python/ops/__init__.py:104: UserWarning: file system plugins are not loaded: unable to open file: libtensorflow_io.so, from paths: ['/opt/conda/lib/python3.10/site-packages/tensorflow_io/python/ops/libtensorflow_io.so']\n",
      "caused by: ['/opt/conda/lib/python3.10/site-packages/tensorflow_io/python/ops/libtensorflow_io.so: undefined symbol: _ZTVN10tensorflow13GcsFileSystemE']\n",
      "  warnings.warn(f\"file system plugins are not loaded: {e}\")\n"
     ]
    }
   ],
   "source": [
    "import pandas as pd\n",
    "import cv2\n",
    "import tensorflow as tf\n",
    "import numpy as np\n",
    "import matplotlib.pyplot as plt"
   ]
  },
  {
   "cell_type": "markdown",
   "id": "8e1fadda",
   "metadata": {
    "papermill": {
     "duration": 0.010897,
     "end_time": "2023-06-28T10:24:40.933473",
     "exception": false,
     "start_time": "2023-06-28T10:24:40.922576",
     "status": "completed"
    },
    "tags": []
   },
   "source": [
    "# Read images"
   ]
  },
  {
   "cell_type": "code",
   "execution_count": 3,
   "id": "11581f25",
   "metadata": {
    "execution": {
     "iopub.execute_input": "2023-06-28T10:24:40.958152Z",
     "iopub.status.busy": "2023-06-28T10:24:40.957130Z",
     "iopub.status.idle": "2023-06-28T10:24:45.975184Z",
     "shell.execute_reply": "2023-06-28T10:24:45.973482Z"
    },
    "papermill": {
     "duration": 5.033662,
     "end_time": "2023-06-28T10:24:45.978391",
     "exception": false,
     "start_time": "2023-06-28T10:24:40.944729",
     "status": "completed"
    },
    "tags": []
   },
   "outputs": [],
   "source": [
    "train_imgs = pd.read_csv('/kaggle/input/digit-recognizer/train.csv')"
   ]
  },
  {
   "cell_type": "code",
   "execution_count": 4,
   "id": "2e931f72",
   "metadata": {
    "execution": {
     "iopub.execute_input": "2023-06-28T10:24:46.004052Z",
     "iopub.status.busy": "2023-06-28T10:24:46.003474Z",
     "iopub.status.idle": "2023-06-28T10:24:46.053933Z",
     "shell.execute_reply": "2023-06-28T10:24:46.052367Z"
    },
    "papermill": {
     "duration": 0.068771,
     "end_time": "2023-06-28T10:24:46.057428",
     "exception": false,
     "start_time": "2023-06-28T10:24:45.988657",
     "status": "completed"
    },
    "tags": []
   },
   "outputs": [
    {
     "data": {
      "text/html": [
       "<div>\n",
       "<style scoped>\n",
       "    .dataframe tbody tr th:only-of-type {\n",
       "        vertical-align: middle;\n",
       "    }\n",
       "\n",
       "    .dataframe tbody tr th {\n",
       "        vertical-align: top;\n",
       "    }\n",
       "\n",
       "    .dataframe thead th {\n",
       "        text-align: right;\n",
       "    }\n",
       "</style>\n",
       "<table border=\"1\" class=\"dataframe\">\n",
       "  <thead>\n",
       "    <tr style=\"text-align: right;\">\n",
       "      <th></th>\n",
       "      <th>label</th>\n",
       "      <th>pixel0</th>\n",
       "      <th>pixel1</th>\n",
       "      <th>pixel2</th>\n",
       "      <th>pixel3</th>\n",
       "      <th>pixel4</th>\n",
       "      <th>pixel5</th>\n",
       "      <th>pixel6</th>\n",
       "      <th>pixel7</th>\n",
       "      <th>pixel8</th>\n",
       "      <th>...</th>\n",
       "      <th>pixel774</th>\n",
       "      <th>pixel775</th>\n",
       "      <th>pixel776</th>\n",
       "      <th>pixel777</th>\n",
       "      <th>pixel778</th>\n",
       "      <th>pixel779</th>\n",
       "      <th>pixel780</th>\n",
       "      <th>pixel781</th>\n",
       "      <th>pixel782</th>\n",
       "      <th>pixel783</th>\n",
       "    </tr>\n",
       "  </thead>\n",
       "  <tbody>\n",
       "    <tr>\n",
       "      <th>0</th>\n",
       "      <td>1</td>\n",
       "      <td>0</td>\n",
       "      <td>0</td>\n",
       "      <td>0</td>\n",
       "      <td>0</td>\n",
       "      <td>0</td>\n",
       "      <td>0</td>\n",
       "      <td>0</td>\n",
       "      <td>0</td>\n",
       "      <td>0</td>\n",
       "      <td>...</td>\n",
       "      <td>0</td>\n",
       "      <td>0</td>\n",
       "      <td>0</td>\n",
       "      <td>0</td>\n",
       "      <td>0</td>\n",
       "      <td>0</td>\n",
       "      <td>0</td>\n",
       "      <td>0</td>\n",
       "      <td>0</td>\n",
       "      <td>0</td>\n",
       "    </tr>\n",
       "    <tr>\n",
       "      <th>1</th>\n",
       "      <td>0</td>\n",
       "      <td>0</td>\n",
       "      <td>0</td>\n",
       "      <td>0</td>\n",
       "      <td>0</td>\n",
       "      <td>0</td>\n",
       "      <td>0</td>\n",
       "      <td>0</td>\n",
       "      <td>0</td>\n",
       "      <td>0</td>\n",
       "      <td>...</td>\n",
       "      <td>0</td>\n",
       "      <td>0</td>\n",
       "      <td>0</td>\n",
       "      <td>0</td>\n",
       "      <td>0</td>\n",
       "      <td>0</td>\n",
       "      <td>0</td>\n",
       "      <td>0</td>\n",
       "      <td>0</td>\n",
       "      <td>0</td>\n",
       "    </tr>\n",
       "    <tr>\n",
       "      <th>2</th>\n",
       "      <td>1</td>\n",
       "      <td>0</td>\n",
       "      <td>0</td>\n",
       "      <td>0</td>\n",
       "      <td>0</td>\n",
       "      <td>0</td>\n",
       "      <td>0</td>\n",
       "      <td>0</td>\n",
       "      <td>0</td>\n",
       "      <td>0</td>\n",
       "      <td>...</td>\n",
       "      <td>0</td>\n",
       "      <td>0</td>\n",
       "      <td>0</td>\n",
       "      <td>0</td>\n",
       "      <td>0</td>\n",
       "      <td>0</td>\n",
       "      <td>0</td>\n",
       "      <td>0</td>\n",
       "      <td>0</td>\n",
       "      <td>0</td>\n",
       "    </tr>\n",
       "    <tr>\n",
       "      <th>3</th>\n",
       "      <td>4</td>\n",
       "      <td>0</td>\n",
       "      <td>0</td>\n",
       "      <td>0</td>\n",
       "      <td>0</td>\n",
       "      <td>0</td>\n",
       "      <td>0</td>\n",
       "      <td>0</td>\n",
       "      <td>0</td>\n",
       "      <td>0</td>\n",
       "      <td>...</td>\n",
       "      <td>0</td>\n",
       "      <td>0</td>\n",
       "      <td>0</td>\n",
       "      <td>0</td>\n",
       "      <td>0</td>\n",
       "      <td>0</td>\n",
       "      <td>0</td>\n",
       "      <td>0</td>\n",
       "      <td>0</td>\n",
       "      <td>0</td>\n",
       "    </tr>\n",
       "    <tr>\n",
       "      <th>4</th>\n",
       "      <td>0</td>\n",
       "      <td>0</td>\n",
       "      <td>0</td>\n",
       "      <td>0</td>\n",
       "      <td>0</td>\n",
       "      <td>0</td>\n",
       "      <td>0</td>\n",
       "      <td>0</td>\n",
       "      <td>0</td>\n",
       "      <td>0</td>\n",
       "      <td>...</td>\n",
       "      <td>0</td>\n",
       "      <td>0</td>\n",
       "      <td>0</td>\n",
       "      <td>0</td>\n",
       "      <td>0</td>\n",
       "      <td>0</td>\n",
       "      <td>0</td>\n",
       "      <td>0</td>\n",
       "      <td>0</td>\n",
       "      <td>0</td>\n",
       "    </tr>\n",
       "  </tbody>\n",
       "</table>\n",
       "<p>5 rows × 785 columns</p>\n",
       "</div>"
      ],
      "text/plain": [
       "   label  pixel0  pixel1  pixel2  pixel3  pixel4  pixel5  pixel6  pixel7  \\\n",
       "0      1       0       0       0       0       0       0       0       0   \n",
       "1      0       0       0       0       0       0       0       0       0   \n",
       "2      1       0       0       0       0       0       0       0       0   \n",
       "3      4       0       0       0       0       0       0       0       0   \n",
       "4      0       0       0       0       0       0       0       0       0   \n",
       "\n",
       "   pixel8  ...  pixel774  pixel775  pixel776  pixel777  pixel778  pixel779  \\\n",
       "0       0  ...         0         0         0         0         0         0   \n",
       "1       0  ...         0         0         0         0         0         0   \n",
       "2       0  ...         0         0         0         0         0         0   \n",
       "3       0  ...         0         0         0         0         0         0   \n",
       "4       0  ...         0         0         0         0         0         0   \n",
       "\n",
       "   pixel780  pixel781  pixel782  pixel783  \n",
       "0         0         0         0         0  \n",
       "1         0         0         0         0  \n",
       "2         0         0         0         0  \n",
       "3         0         0         0         0  \n",
       "4         0         0         0         0  \n",
       "\n",
       "[5 rows x 785 columns]"
      ]
     },
     "execution_count": 4,
     "metadata": {},
     "output_type": "execute_result"
    }
   ],
   "source": [
    "train_imgs.head()"
   ]
  },
  {
   "cell_type": "markdown",
   "id": "44027c19",
   "metadata": {
    "papermill": {
     "duration": 0.010411,
     "end_time": "2023-06-28T10:24:46.078296",
     "exception": false,
     "start_time": "2023-06-28T10:24:46.067885",
     "status": "completed"
    },
    "tags": []
   },
   "source": [
    "We can see that the training labels are in the first column, and all other columns contain the pixel value of a particular 28x28 image"
   ]
  },
  {
   "cell_type": "code",
   "execution_count": 5,
   "id": "828de165",
   "metadata": {
    "execution": {
     "iopub.execute_input": "2023-06-28T10:24:46.101815Z",
     "iopub.status.busy": "2023-06-28T10:24:46.101417Z",
     "iopub.status.idle": "2023-06-28T10:24:46.246828Z",
     "shell.execute_reply": "2023-06-28T10:24:46.245502Z"
    },
    "papermill": {
     "duration": 0.161002,
     "end_time": "2023-06-28T10:24:46.250136",
     "exception": false,
     "start_time": "2023-06-28T10:24:46.089134",
     "status": "completed"
    },
    "tags": []
   },
   "outputs": [],
   "source": [
    "train_data, train_label = train_imgs.drop(['label'], axis=1), train_imgs['label']\n"
   ]
  },
  {
   "cell_type": "markdown",
   "id": "0971e85f",
   "metadata": {
    "papermill": {
     "duration": 0.010235,
     "end_time": "2023-06-28T10:24:46.270803",
     "exception": false,
     "start_time": "2023-06-28T10:24:46.260568",
     "status": "completed"
    },
    "tags": []
   },
   "source": [
    "Visualise the first 10 images in the train dataset"
   ]
  },
  {
   "cell_type": "code",
   "execution_count": 6,
   "id": "c72c2672",
   "metadata": {
    "execution": {
     "iopub.execute_input": "2023-06-28T10:24:46.294092Z",
     "iopub.status.busy": "2023-06-28T10:24:46.293660Z",
     "iopub.status.idle": "2023-06-28T10:24:47.637013Z",
     "shell.execute_reply": "2023-06-28T10:24:47.635744Z"
    },
    "papermill": {
     "duration": 1.358607,
     "end_time": "2023-06-28T10:24:47.640515",
     "exception": false,
     "start_time": "2023-06-28T10:24:46.281908",
     "status": "completed"
    },
    "tags": []
   },
   "outputs": [
    {
     "data": {
      "image/png": "[encoded data removed]",
      "text/plain": [
       "<Figure size 1000x5000 with 10 Axes>"
      ]
     },
     "metadata": {},
     "output_type": "display_data"
    }
   ],
   "source": [
    "fig, ax = plt.subplots(ncols=10, figsize=(10, 50))\n",
    "for i in range(10):\n",
    "        ax[i].imshow(train_data.iloc[i].to_numpy().reshape(28, 28), cmap='gray')\n",
    "        ax[i].set_title(train_label[i])\n",
    "        ax[i].axis('off')"
   ]
  },
  {
   "cell_type": "markdown",
   "id": "abccdd65",
   "metadata": {
    "papermill": {
     "duration": 0.011284,
     "end_time": "2023-06-28T10:24:47.664208",
     "exception": false,
     "start_time": "2023-06-28T10:24:47.652924",
     "status": "completed"
    },
    "tags": []
   },
   "source": [
    "# Preprocessing\n",
    "- apply Otsu's thresholding to convert grayscale image to binary image\n",
    "- apply morphological opening to smoothen contours"
   ]
  },
  {
   "cell_type": "code",
   "execution_count": 7,
   "id": "0cd98033",
   "metadata": {
    "execution": {
     "iopub.execute_input": "2023-06-28T10:24:47.688579Z",
     "iopub.status.busy": "2023-06-28T10:24:47.688003Z",
     "iopub.status.idle": "2023-06-28T10:24:47.699130Z",
     "shell.execute_reply": "2023-06-28T10:24:47.697711Z"
    },
    "papermill": {
     "duration": 0.027185,
     "end_time": "2023-06-28T10:24:47.702196",
     "exception": false,
     "start_time": "2023-06-28T10:24:47.675011",
     "status": "completed"
    },
    "tags": []
   },
   "outputs": [],
   "source": [
    "def threshold_row_img(row):\n",
    "    img = row.to_numpy().reshape(28, 28).astype(np.uint8)\n",
    "    _, otsu_img = cv2.threshold(img, 0, 255, cv2.THRESH_BINARY+cv2.THRESH_OTSU)\n",
    "    return otsu_img\n",
    "\n",
    "def preprocess_df(df):\n",
    "    res = []\n",
    "    for i in range(df.shape[0]):\n",
    "        thresholded_img = threshold_row_img(df.iloc[i])\n",
    "        # apply opening to smoothen contours\n",
    "        thresholded_img = cv2.erode(thresholded_img, np.ones((2, 2), np.uint8), iterations=1)\n",
    "        thresholded_img = cv2.dilate(thresholded_img, np.ones((2, 2), np.uint8), iterations=1)\n",
    "        res.append(thresholded_img.flatten())\n",
    "    return np.array(res)"
   ]
  },
  {
   "cell_type": "code",
   "execution_count": 8,
   "id": "110993d9",
   "metadata": {
    "execution": {
     "iopub.execute_input": "2023-06-28T10:24:47.725942Z",
     "iopub.status.busy": "2023-06-28T10:24:47.725354Z",
     "iopub.status.idle": "2023-06-28T10:24:52.898918Z",
     "shell.execute_reply": "2023-06-28T10:24:52.897161Z"
    },
    "papermill": {
     "duration": 5.190219,
     "end_time": "2023-06-28T10:24:52.903147",
     "exception": false,
     "start_time": "2023-06-28T10:24:47.712928",
     "status": "completed"
    },
    "tags": []
   },
   "outputs": [],
   "source": [
    "preprocessed_train_data = preprocess_df(train_data)"
   ]
  },
  {
   "cell_type": "code",
   "execution_count": 9,
   "id": "52bd414b",
   "metadata": {
    "execution": {
     "iopub.execute_input": "2023-06-28T10:24:52.928704Z",
     "iopub.status.busy": "2023-06-28T10:24:52.928268Z",
     "iopub.status.idle": "2023-06-28T10:24:52.935250Z",
     "shell.execute_reply": "2023-06-28T10:24:52.934092Z"
    },
    "papermill": {
     "duration": 0.022692,
     "end_time": "2023-06-28T10:24:52.937977",
     "exception": false,
     "start_time": "2023-06-28T10:24:52.915285",
     "status": "completed"
    },
    "tags": []
   },
   "outputs": [
    {
     "data": {
      "text/plain": [
       "(42000, 784)"
      ]
     },
     "execution_count": 9,
     "metadata": {},
     "output_type": "execute_result"
    }
   ],
   "source": [
    "preprocessed_train_data.shape"
   ]
  },
  {
   "cell_type": "code",
   "execution_count": 10,
   "id": "e6823108",
   "metadata": {
    "execution": {
     "iopub.execute_input": "2023-06-28T10:24:52.962241Z",
     "iopub.status.busy": "2023-06-28T10:24:52.961572Z",
     "iopub.status.idle": "2023-06-28T10:24:53.917830Z",
     "shell.execute_reply": "2023-06-28T10:24:53.916358Z"
    },
    "papermill": {
     "duration": 0.972268,
     "end_time": "2023-06-28T10:24:53.921628",
     "exception": false,
     "start_time": "2023-06-28T10:24:52.949360",
     "status": "completed"
    },
    "tags": []
   },
   "outputs": [],
   "source": [
    "# one hot encode labels\n",
    "from sklearn.preprocessing import OneHotEncoder\n",
    "\n",
    "enc = OneHotEncoder(sparse_output=False)\n",
    "ohe_train_labels = enc.fit_transform(train_label.to_numpy().reshape(-1, 1))\n"
   ]
  },
  {
   "cell_type": "code",
   "execution_count": 11,
   "id": "d95396c0",
   "metadata": {
    "execution": {
     "iopub.execute_input": "2023-06-28T10:24:53.946791Z",
     "iopub.status.busy": "2023-06-28T10:24:53.946320Z",
     "iopub.status.idle": "2023-06-28T10:24:53.955960Z",
     "shell.execute_reply": "2023-06-28T10:24:53.954101Z"
    },
    "papermill": {
     "duration": 0.026369,
     "end_time": "2023-06-28T10:24:53.959053",
     "exception": false,
     "start_time": "2023-06-28T10:24:53.932684",
     "status": "completed"
    },
    "tags": []
   },
   "outputs": [
    {
     "data": {
      "text/plain": [
       "(42000, 10)"
      ]
     },
     "execution_count": 11,
     "metadata": {},
     "output_type": "execute_result"
    }
   ],
   "source": [
    "ohe_train_labels.shape"
   ]
  },
  {
   "cell_type": "markdown",
   "id": "fd591211",
   "metadata": {
    "papermill": {
     "duration": 0.011527,
     "end_time": "2023-06-28T10:24:53.983339",
     "exception": false,
     "start_time": "2023-06-28T10:24:53.971812",
     "status": "completed"
    },
    "tags": []
   },
   "source": [
    "Next, we split the training images using an 80:20 split"
   ]
  },
  {
   "cell_type": "code",
   "execution_count": 12,
   "id": "21ea8db8",
   "metadata": {
    "execution": {
     "iopub.execute_input": "2023-06-28T10:24:54.013885Z",
     "iopub.status.busy": "2023-06-28T10:24:54.013463Z",
     "iopub.status.idle": "2023-06-28T10:24:54.167637Z",
     "shell.execute_reply": "2023-06-28T10:24:54.166202Z"
    },
    "papermill": {
     "duration": 0.175639,
     "end_time": "2023-06-28T10:24:54.170925",
     "exception": false,
     "start_time": "2023-06-28T10:24:53.995286",
     "status": "completed"
    },
    "tags": []
   },
   "outputs": [],
   "source": [
    "from sklearn.model_selection import train_test_split\n",
    "X_train, X_test, y_train, y_test = train_test_split(preprocessed_train_data, ohe_train_labels, test_size=0.2, random_state=28)"
   ]
  },
  {
   "cell_type": "code",
   "execution_count": 13,
   "id": "fac7781a",
   "metadata": {
    "execution": {
     "iopub.execute_input": "2023-06-28T10:24:54.196461Z",
     "iopub.status.busy": "2023-06-28T10:24:54.195077Z",
     "iopub.status.idle": "2023-06-28T10:24:54.202498Z",
     "shell.execute_reply": "2023-06-28T10:24:54.201145Z"
    },
    "papermill": {
     "duration": 0.022817,
     "end_time": "2023-06-28T10:24:54.205146",
     "exception": false,
     "start_time": "2023-06-28T10:24:54.182329",
     "status": "completed"
    },
    "tags": []
   },
   "outputs": [
    {
     "name": "stdout",
     "output_type": "stream",
     "text": [
      "(33600, 784) (8400, 784) (33600, 10) (8400, 10)\n"
     ]
    }
   ],
   "source": [
    "print(X_train.shape, X_test.shape, y_train.shape, y_test.shape)"
   ]
  },
  {
   "cell_type": "markdown",
   "id": "2225becd",
   "metadata": {
    "papermill": {
     "duration": 0.01086,
     "end_time": "2023-06-28T10:24:54.227610",
     "exception": false,
     "start_time": "2023-06-28T10:24:54.216750",
     "status": "completed"
    },
    "tags": []
   },
   "source": [
    "# Train model"
   ]
  },
  {
   "cell_type": "code",
   "execution_count": 14,
   "id": "a6296f9e",
   "metadata": {
    "execution": {
     "iopub.execute_input": "2023-06-28T10:24:54.252218Z",
     "iopub.status.busy": "2023-06-28T10:24:54.251738Z",
     "iopub.status.idle": "2023-06-28T10:24:54.483335Z",
     "shell.execute_reply": "2023-06-28T10:24:54.481900Z"
    },
    "papermill": {
     "duration": 0.24787,
     "end_time": "2023-06-28T10:24:54.486374",
     "exception": false,
     "start_time": "2023-06-28T10:24:54.238504",
     "status": "completed"
    },
    "tags": []
   },
   "outputs": [],
   "source": [
    "model = tf.keras.Sequential([\n",
    "    tf.keras.layers.Dense(100, input_shape=(784,), activation='sigmoid'),\n",
    "    tf.keras.layers.Dense(10)\n",
    "])"
   ]
  },
  {
   "cell_type": "code",
   "execution_count": 15,
   "id": "34003936",
   "metadata": {
    "execution": {
     "iopub.execute_input": "2023-06-28T10:24:54.511142Z",
     "iopub.status.busy": "2023-06-28T10:24:54.510598Z",
     "iopub.status.idle": "2023-06-28T10:24:54.535467Z",
     "shell.execute_reply": "2023-06-28T10:24:54.534317Z"
    },
    "papermill": {
     "duration": 0.040864,
     "end_time": "2023-06-28T10:24:54.538444",
     "exception": false,
     "start_time": "2023-06-28T10:24:54.497580",
     "status": "completed"
    },
    "tags": []
   },
   "outputs": [],
   "source": [
    "# apply early stopping to training\n",
    "early_stopping_cb = tf.keras.callbacks.EarlyStopping(monitor='loss', patience=5, restore_best_weights=True)\n",
    "\n",
    "model.compile(optimizer='adam',\n",
    "             loss=tf.keras.losses.CategoricalCrossentropy(from_logits=True),\n",
    "             metrics=['accuracy'])"
   ]
  },
  {
   "cell_type": "code",
   "execution_count": 16,
   "id": "3742166b",
   "metadata": {
    "execution": {
     "iopub.execute_input": "2023-06-28T10:24:54.562823Z",
     "iopub.status.busy": "2023-06-28T10:24:54.562420Z",
     "iopub.status.idle": "2023-06-28T10:29:13.838908Z",
     "shell.execute_reply": "2023-06-28T10:29:13.837339Z"
    },
    "papermill": {
     "duration": 259.29233,
     "end_time": "2023-06-28T10:29:13.841687",
     "exception": false,
     "start_time": "2023-06-28T10:24:54.549357",
     "status": "completed"
    },
    "tags": []
   },
   "outputs": [
    {
     "name": "stdout",
     "output_type": "stream",
     "text": [
      "Epoch 1/300\n",
      "840/840 [==============================] - 5s 5ms/step - loss: 0.8184 - accuracy: 0.7724 - val_loss: 0.5453 - val_accuracy: 0.8519\n",
      "Epoch 2/300\n",
      "840/840 [==============================] - 4s 5ms/step - loss: 0.4993 - accuracy: 0.8554 - val_loss: 0.4790 - val_accuracy: 0.8626\n",
      "Epoch 3/300\n",
      "840/840 [==============================] - 4s 5ms/step - loss: 0.4553 - accuracy: 0.8643 - val_loss: 0.4241 - val_accuracy: 0.8754\n",
      "Epoch 4/300\n",
      "840/840 [==============================] - 4s 4ms/step - loss: 0.4155 - accuracy: 0.8757 - val_loss: 0.4071 - val_accuracy: 0.8757\n",
      "Epoch 5/300\n",
      "840/840 [==============================] - 4s 5ms/step - loss: 0.3974 - accuracy: 0.8807 - val_loss: 0.3957 - val_accuracy: 0.8811\n",
      "Epoch 6/300\n",
      "840/840 [==============================] - 4s 4ms/step - loss: 0.3800 - accuracy: 0.8872 - val_loss: 0.3818 - val_accuracy: 0.8815\n",
      "Epoch 7/300\n",
      "840/840 [==============================] - 4s 5ms/step - loss: 0.3747 - accuracy: 0.8862 - val_loss: 0.4006 - val_accuracy: 0.8784\n",
      "Epoch 8/300\n",
      "840/840 [==============================] - 4s 5ms/step - loss: 0.3760 - accuracy: 0.8848 - val_loss: 0.3828 - val_accuracy: 0.8818\n",
      "Epoch 9/300\n",
      "840/840 [==============================] - 4s 4ms/step - loss: 0.3635 - accuracy: 0.8885 - val_loss: 0.3916 - val_accuracy: 0.8793\n",
      "Epoch 10/300\n",
      "840/840 [==============================] - 4s 5ms/step - loss: 0.3667 - accuracy: 0.8874 - val_loss: 0.3697 - val_accuracy: 0.8844\n",
      "Epoch 11/300\n",
      "840/840 [==============================] - 4s 4ms/step - loss: 0.3574 - accuracy: 0.8920 - val_loss: 0.3822 - val_accuracy: 0.8818\n",
      "Epoch 12/300\n",
      "840/840 [==============================] - 4s 5ms/step - loss: 0.3660 - accuracy: 0.8900 - val_loss: 0.3743 - val_accuracy: 0.8827\n",
      "Epoch 13/300\n",
      "840/840 [==============================] - 4s 5ms/step - loss: 0.3451 - accuracy: 0.8922 - val_loss: 0.3660 - val_accuracy: 0.8851\n",
      "Epoch 14/300\n",
      "840/840 [==============================] - 4s 4ms/step - loss: 0.3307 - accuracy: 0.8972 - val_loss: 0.3371 - val_accuracy: 0.8933\n",
      "Epoch 15/300\n",
      "840/840 [==============================] - 4s 4ms/step - loss: 0.3200 - accuracy: 0.9023 - val_loss: 0.3450 - val_accuracy: 0.8949\n",
      "Epoch 16/300\n",
      "840/840 [==============================] - 4s 5ms/step - loss: 0.3222 - accuracy: 0.9016 - val_loss: 0.3529 - val_accuracy: 0.8923\n",
      "Epoch 17/300\n",
      "840/840 [==============================] - 4s 5ms/step - loss: 0.3218 - accuracy: 0.9016 - val_loss: 0.3471 - val_accuracy: 0.8945\n",
      "Epoch 18/300\n",
      "840/840 [==============================] - 4s 5ms/step - loss: 0.3187 - accuracy: 0.9019 - val_loss: 0.3482 - val_accuracy: 0.8933\n",
      "Epoch 19/300\n",
      "840/840 [==============================] - 4s 4ms/step - loss: 0.3116 - accuracy: 0.9038 - val_loss: 0.3462 - val_accuracy: 0.8924\n",
      "Epoch 20/300\n",
      "840/840 [==============================] - 4s 5ms/step - loss: 0.3164 - accuracy: 0.9024 - val_loss: 0.3303 - val_accuracy: 0.8973\n",
      "Epoch 21/300\n",
      "840/840 [==============================] - 4s 4ms/step - loss: 0.3119 - accuracy: 0.9040 - val_loss: 0.3465 - val_accuracy: 0.8940\n",
      "Epoch 22/300\n",
      "840/840 [==============================] - 4s 5ms/step - loss: 0.3071 - accuracy: 0.9049 - val_loss: 0.3298 - val_accuracy: 0.8976\n",
      "Epoch 23/300\n",
      "840/840 [==============================] - 4s 4ms/step - loss: 0.3034 - accuracy: 0.9064 - val_loss: 0.3285 - val_accuracy: 0.8958\n",
      "Epoch 24/300\n",
      "840/840 [==============================] - 4s 4ms/step - loss: 0.3189 - accuracy: 0.9008 - val_loss: 0.3441 - val_accuracy: 0.8945\n",
      "Epoch 25/300\n",
      "840/840 [==============================] - 4s 4ms/step - loss: 0.2990 - accuracy: 0.9067 - val_loss: 0.3229 - val_accuracy: 0.9027\n",
      "Epoch 26/300\n",
      "840/840 [==============================] - 4s 4ms/step - loss: 0.2838 - accuracy: 0.9141 - val_loss: 0.3137 - val_accuracy: 0.9052\n",
      "Epoch 27/300\n",
      "840/840 [==============================] - 4s 4ms/step - loss: 0.2814 - accuracy: 0.9148 - val_loss: 0.3069 - val_accuracy: 0.9051\n",
      "Epoch 28/300\n",
      "840/840 [==============================] - 4s 4ms/step - loss: 0.2792 - accuracy: 0.9137 - val_loss: 0.3074 - val_accuracy: 0.9049\n",
      "Epoch 29/300\n",
      "840/840 [==============================] - 4s 4ms/step - loss: 0.2884 - accuracy: 0.9102 - val_loss: 0.3068 - val_accuracy: 0.9049\n",
      "Epoch 30/300\n",
      "840/840 [==============================] - 4s 4ms/step - loss: 0.2835 - accuracy: 0.9129 - val_loss: 0.3229 - val_accuracy: 0.9030\n",
      "Epoch 31/300\n",
      "840/840 [==============================] - 4s 4ms/step - loss: 0.2844 - accuracy: 0.9130 - val_loss: 0.3032 - val_accuracy: 0.9055\n",
      "Epoch 32/300\n",
      "840/840 [==============================] - 3s 4ms/step - loss: 0.2741 - accuracy: 0.9166 - val_loss: 0.3255 - val_accuracy: 0.9007\n",
      "Epoch 33/300\n",
      "840/840 [==============================] - 4s 4ms/step - loss: 0.2759 - accuracy: 0.9146 - val_loss: 0.3249 - val_accuracy: 0.8997\n",
      "Epoch 34/300\n",
      "840/840 [==============================] - 3s 4ms/step - loss: 0.2755 - accuracy: 0.9153 - val_loss: 0.3209 - val_accuracy: 0.8997\n",
      "Epoch 35/300\n",
      "840/840 [==============================] - 4s 4ms/step - loss: 0.2799 - accuracy: 0.9142 - val_loss: 0.3211 - val_accuracy: 0.8999\n",
      "Epoch 36/300\n",
      "840/840 [==============================] - 4s 4ms/step - loss: 0.2745 - accuracy: 0.9154 - val_loss: 0.3111 - val_accuracy: 0.9033\n",
      "Epoch 37/300\n",
      "840/840 [==============================] - 4s 4ms/step - loss: 0.2657 - accuracy: 0.9180 - val_loss: 0.3091 - val_accuracy: 0.9062\n",
      "Epoch 38/300\n",
      "840/840 [==============================] - 3s 4ms/step - loss: 0.2730 - accuracy: 0.9145 - val_loss: 0.3205 - val_accuracy: 0.9049\n",
      "Epoch 39/300\n",
      "840/840 [==============================] - 3s 4ms/step - loss: 0.2727 - accuracy: 0.9160 - val_loss: 0.3035 - val_accuracy: 0.9091\n",
      "Epoch 40/300\n",
      "840/840 [==============================] - 4s 5ms/step - loss: 0.2586 - accuracy: 0.9198 - val_loss: 0.3111 - val_accuracy: 0.9022\n",
      "Epoch 41/300\n",
      "840/840 [==============================] - 4s 4ms/step - loss: 0.2609 - accuracy: 0.9207 - val_loss: 0.3048 - val_accuracy: 0.9068\n",
      "Epoch 42/300\n",
      "840/840 [==============================] - 3s 4ms/step - loss: 0.2650 - accuracy: 0.9180 - val_loss: 0.3105 - val_accuracy: 0.9095\n",
      "Epoch 43/300\n",
      "840/840 [==============================] - 3s 4ms/step - loss: 0.2486 - accuracy: 0.9235 - val_loss: 0.2883 - val_accuracy: 0.9110\n",
      "Epoch 44/300\n",
      "840/840 [==============================] - 3s 4ms/step - loss: 0.2456 - accuracy: 0.9248 - val_loss: 0.2901 - val_accuracy: 0.9129\n",
      "Epoch 45/300\n",
      "840/840 [==============================] - 3s 4ms/step - loss: 0.2485 - accuracy: 0.9242 - val_loss: 0.2851 - val_accuracy: 0.9143\n",
      "Epoch 46/300\n",
      "840/840 [==============================] - 3s 4ms/step - loss: 0.2428 - accuracy: 0.9253 - val_loss: 0.2781 - val_accuracy: 0.9156\n",
      "Epoch 47/300\n",
      "840/840 [==============================] - 4s 4ms/step - loss: 0.2431 - accuracy: 0.9244 - val_loss: 0.2745 - val_accuracy: 0.9164\n",
      "Epoch 48/300\n",
      "840/840 [==============================] - 4s 4ms/step - loss: 0.2404 - accuracy: 0.9237 - val_loss: 0.2899 - val_accuracy: 0.9153\n",
      "Epoch 49/300\n",
      "840/840 [==============================] - 3s 4ms/step - loss: 0.2425 - accuracy: 0.9256 - val_loss: 0.2959 - val_accuracy: 0.9110\n",
      "Epoch 50/300\n",
      "840/840 [==============================] - 4s 4ms/step - loss: 0.2454 - accuracy: 0.9235 - val_loss: 0.2840 - val_accuracy: 0.9140\n",
      "Epoch 51/300\n",
      "840/840 [==============================] - 4s 4ms/step - loss: 0.2337 - accuracy: 0.9277 - val_loss: 0.2693 - val_accuracy: 0.9182\n",
      "Epoch 52/300\n",
      "840/840 [==============================] - 3s 4ms/step - loss: 0.2230 - accuracy: 0.9311 - val_loss: 0.2877 - val_accuracy: 0.9152\n",
      "Epoch 53/300\n",
      "840/840 [==============================] - 3s 4ms/step - loss: 0.2339 - accuracy: 0.9271 - val_loss: 0.2890 - val_accuracy: 0.9104\n",
      "Epoch 54/300\n",
      "840/840 [==============================] - 3s 4ms/step - loss: 0.2300 - accuracy: 0.9284 - val_loss: 0.2855 - val_accuracy: 0.9104\n",
      "Epoch 55/300\n",
      "840/840 [==============================] - 3s 4ms/step - loss: 0.2352 - accuracy: 0.9272 - val_loss: 0.2831 - val_accuracy: 0.9164\n",
      "Epoch 56/300\n",
      "840/840 [==============================] - 3s 4ms/step - loss: 0.2326 - accuracy: 0.9272 - val_loss: 0.2719 - val_accuracy: 0.9168\n",
      "Epoch 57/300\n",
      "840/840 [==============================] - 3s 4ms/step - loss: 0.2209 - accuracy: 0.9319 - val_loss: 0.2761 - val_accuracy: 0.9185\n",
      "Epoch 58/300\n",
      "840/840 [==============================] - 3s 4ms/step - loss: 0.2283 - accuracy: 0.9276 - val_loss: 0.2800 - val_accuracy: 0.9134\n",
      "Epoch 59/300\n",
      "840/840 [==============================] - 3s 4ms/step - loss: 0.2165 - accuracy: 0.9305 - val_loss: 0.2778 - val_accuracy: 0.9135\n",
      "Epoch 60/300\n",
      "840/840 [==============================] - 3s 4ms/step - loss: 0.2134 - accuracy: 0.9330 - val_loss: 0.2757 - val_accuracy: 0.9138\n",
      "Epoch 61/300\n",
      "840/840 [==============================] - 3s 4ms/step - loss: 0.2262 - accuracy: 0.9305 - val_loss: 0.2888 - val_accuracy: 0.9135\n",
      "Epoch 62/300\n",
      "840/840 [==============================] - 3s 4ms/step - loss: 0.2203 - accuracy: 0.9301 - val_loss: 0.2831 - val_accuracy: 0.9115\n",
      "Epoch 63/300\n",
      "840/840 [==============================] - 3s 4ms/step - loss: 0.2166 - accuracy: 0.9308 - val_loss: 0.2804 - val_accuracy: 0.9171\n",
      "Epoch 64/300\n",
      "840/840 [==============================] - 3s 4ms/step - loss: 0.2168 - accuracy: 0.9320 - val_loss: 0.2546 - val_accuracy: 0.9234\n",
      "Epoch 65/300\n",
      "840/840 [==============================] - 3s 4ms/step - loss: 0.2107 - accuracy: 0.9346 - val_loss: 0.2662 - val_accuracy: 0.9195\n",
      "Epoch 66/300\n",
      "840/840 [==============================] - 3s 4ms/step - loss: 0.2156 - accuracy: 0.9320 - val_loss: 0.2716 - val_accuracy: 0.9198\n",
      "Epoch 67/300\n",
      "840/840 [==============================] - 3s 4ms/step - loss: 0.2135 - accuracy: 0.9317 - val_loss: 0.2648 - val_accuracy: 0.9211\n",
      "Epoch 68/300\n",
      "840/840 [==============================] - 3s 4ms/step - loss: 0.2048 - accuracy: 0.9347 - val_loss: 0.2581 - val_accuracy: 0.9198\n",
      "Epoch 69/300\n",
      "840/840 [==============================] - 3s 4ms/step - loss: 0.2064 - accuracy: 0.9354 - val_loss: 0.2776 - val_accuracy: 0.9201\n",
      "Epoch 70/300\n",
      "840/840 [==============================] - 4s 4ms/step - loss: 0.2105 - accuracy: 0.9330 - val_loss: 0.2645 - val_accuracy: 0.9205\n",
      "Epoch 71/300\n",
      "840/840 [==============================] - 3s 4ms/step - loss: 0.2098 - accuracy: 0.9340 - val_loss: 0.2754 - val_accuracy: 0.9161\n",
      "Epoch 72/300\n",
      "840/840 [==============================] - 3s 4ms/step - loss: 0.2079 - accuracy: 0.9366 - val_loss: 0.2694 - val_accuracy: 0.9186\n",
      "Epoch 73/300\n",
      "840/840 [==============================] - 3s 4ms/step - loss: 0.2061 - accuracy: 0.9353 - val_loss: 0.2604 - val_accuracy: 0.9213\n"
     ]
    }
   ],
   "source": [
    "history = model.fit(X_train, y_train, epochs=300, batch_size=32, validation_split=0.2, callbacks=[early_stopping_cb])"
   ]
  },
  {
   "cell_type": "code",
   "execution_count": 17,
   "id": "bf08730a",
   "metadata": {
    "execution": {
     "iopub.execute_input": "2023-06-28T10:29:14.680701Z",
     "iopub.status.busy": "2023-06-28T10:29:14.680192Z",
     "iopub.status.idle": "2023-06-28T10:29:15.246726Z",
     "shell.execute_reply": "2023-06-28T10:29:15.245432Z"
    },
    "papermill": {
     "duration": 0.987485,
     "end_time": "2023-06-28T10:29:15.249576",
     "exception": false,
     "start_time": "2023-06-28T10:29:14.262091",
     "status": "completed"
    },
    "tags": []
   },
   "outputs": [
    {
     "data": {
      "image/png": "[encoded data removed]",
      "text/plain": [
       "<Figure size 1000x300 with 2 Axes>"
      ]
     },
     "metadata": {},
     "output_type": "display_data"
    }
   ],
   "source": [
    "# plot accuracy and loss curves\n",
    "fig, ax = plt.subplots(ncols=2, figsize=(10, 3))\n",
    "\n",
    "ax[0].plot(history.history['loss'], label='train loss')\n",
    "ax[0].plot(history.history['val_loss'], label='validation loss')\n",
    "ax[0].set_title('model loss')\n",
    "ax[0].set_ylabel('loss')\n",
    "ax[0].set_xlabel('no. epoch')\n",
    "ax[0].legend()\n",
    "ax[0].grid()\n",
    "\n",
    "ax[1].plot(history.history['accuracy'], label='train accuracy')\n",
    "ax[1].plot(history.history['val_accuracy'], label='validation accuracy')\n",
    "ax[1].set_title('model accuracy')\n",
    "ax[1].set_ylabel('accuracy')\n",
    "ax[1].set_xlabel('no. epoch')\n",
    "ax[1].legend()\n",
    "ax[1].grid()\n",
    "plt.show()"
   ]
  },
  {
   "cell_type": "code",
   "execution_count": 18,
   "id": "86091936",
   "metadata": {
    "execution": {
     "iopub.execute_input": "2023-06-28T10:29:16.079773Z",
     "iopub.status.busy": "2023-06-28T10:29:16.079309Z",
     "iopub.status.idle": "2023-06-28T10:29:16.753463Z",
     "shell.execute_reply": "2023-06-28T10:29:16.752172Z"
    },
    "papermill": {
     "duration": 1.08819,
     "end_time": "2023-06-28T10:29:16.756373",
     "exception": false,
     "start_time": "2023-06-28T10:29:15.668183",
     "status": "completed"
    },
    "tags": []
   },
   "outputs": [
    {
     "name": "stdout",
     "output_type": "stream",
     "text": [
      "263/263 - 1s - loss: 0.2688 - accuracy: 0.9183 - 592ms/epoch - 2ms/step\n",
      "Test accuracy: 91.83%, Test Loss=0.2688\n"
     ]
    }
   ],
   "source": [
    "test_loss, test_acc = model.evaluate(X_test, y_test, verbose=2)\n",
    "print(f'Test accuracy: {test_acc:.2%}, Test Loss={test_loss:.4f}')"
   ]
  },
  {
   "cell_type": "markdown",
   "id": "53e5675e",
   "metadata": {
    "papermill": {
     "duration": 0.479347,
     "end_time": "2023-06-28T10:29:17.646896",
     "exception": false,
     "start_time": "2023-06-28T10:29:17.167549",
     "status": "completed"
    },
    "tags": []
   },
   "source": [
    "# Make predictions on test images"
   ]
  },
  {
   "cell_type": "code",
   "execution_count": 19,
   "id": "89dc082b",
   "metadata": {
    "execution": {
     "iopub.execute_input": "2023-06-28T10:29:18.470721Z",
     "iopub.status.busy": "2023-06-28T10:29:18.470285Z",
     "iopub.status.idle": "2023-06-28T10:29:21.105272Z",
     "shell.execute_reply": "2023-06-28T10:29:21.103575Z"
    },
    "papermill": {
     "duration": 3.052898,
     "end_time": "2023-06-28T10:29:21.107801",
     "exception": false,
     "start_time": "2023-06-28T10:29:18.054903",
     "status": "completed"
    },
    "tags": []
   },
   "outputs": [
    {
     "name": "stdout",
     "output_type": "stream",
     "text": [
      "(28000, 784)\n"
     ]
    }
   ],
   "source": [
    "# read testimages\n",
    "test_imgs = pd.read_csv('/kaggle/input/digit-recognizer/test.csv')\n",
    "print(test_imgs.shape)"
   ]
  },
  {
   "cell_type": "code",
   "execution_count": 20,
   "id": "d85e22fa",
   "metadata": {
    "execution": {
     "iopub.execute_input": "2023-06-28T10:29:21.943891Z",
     "iopub.status.busy": "2023-06-28T10:29:21.943444Z",
     "iopub.status.idle": "2023-06-28T10:29:25.087889Z",
     "shell.execute_reply": "2023-06-28T10:29:25.086903Z"
    },
    "papermill": {
     "duration": 3.564404,
     "end_time": "2023-06-28T10:29:25.090858",
     "exception": false,
     "start_time": "2023-06-28T10:29:21.526454",
     "status": "completed"
    },
    "tags": []
   },
   "outputs": [],
   "source": [
    "# preprocess test images\n",
    "preprocessed_test_data = preprocess_df(test_imgs)"
   ]
  },
  {
   "cell_type": "code",
   "execution_count": 21,
   "id": "f41d4b4e",
   "metadata": {
    "execution": {
     "iopub.execute_input": "2023-06-28T10:29:25.928211Z",
     "iopub.status.busy": "2023-06-28T10:29:25.927726Z",
     "iopub.status.idle": "2023-06-28T10:29:27.991278Z",
     "shell.execute_reply": "2023-06-28T10:29:27.989456Z"
    },
    "papermill": {
     "duration": 2.481308,
     "end_time": "2023-06-28T10:29:27.993915",
     "exception": false,
     "start_time": "2023-06-28T10:29:25.512607",
     "status": "completed"
    },
    "tags": []
   },
   "outputs": [
    {
     "name": "stdout",
     "output_type": "stream",
     "text": [
      "875/875 [==============================] - 2s 2ms/step\n"
     ]
    }
   ],
   "source": [
    "# make predictions using model\n",
    "scores = model.predict(preprocessed_test_data)\n",
    "preds = np.argmax(scores, axis=1) # the class with the highest score is selected as the predicted class"
   ]
  },
  {
   "cell_type": "code",
   "execution_count": 22,
   "id": "7e0b6bab",
   "metadata": {
    "execution": {
     "iopub.execute_input": "2023-06-28T10:29:28.894694Z",
     "iopub.status.busy": "2023-06-28T10:29:28.893427Z",
     "iopub.status.idle": "2023-06-28T10:29:28.922143Z",
     "shell.execute_reply": "2023-06-28T10:29:28.920932Z"
    },
    "papermill": {
     "duration": 0.446094,
     "end_time": "2023-06-28T10:29:28.924605",
     "exception": false,
     "start_time": "2023-06-28T10:29:28.478511",
     "status": "completed"
    },
    "tags": []
   },
   "outputs": [
    {
     "data": {
      "text/html": [
       "<div>\n",
       "<style scoped>\n",
       "    .dataframe tbody tr th:only-of-type {\n",
       "        vertical-align: middle;\n",
       "    }\n",
       "\n",
       "    .dataframe tbody tr th {\n",
       "        vertical-align: top;\n",
       "    }\n",
       "\n",
       "    .dataframe thead th {\n",
       "        text-align: right;\n",
       "    }\n",
       "</style>\n",
       "<table border=\"1\" class=\"dataframe\">\n",
       "  <thead>\n",
       "    <tr style=\"text-align: right;\">\n",
       "      <th></th>\n",
       "      <th>ImageId</th>\n",
       "      <th>Label</th>\n",
       "    </tr>\n",
       "  </thead>\n",
       "  <tbody>\n",
       "    <tr>\n",
       "      <th>0</th>\n",
       "      <td>1</td>\n",
       "      <td>2</td>\n",
       "    </tr>\n",
       "    <tr>\n",
       "      <th>1</th>\n",
       "      <td>2</td>\n",
       "      <td>0</td>\n",
       "    </tr>\n",
       "    <tr>\n",
       "      <th>2</th>\n",
       "      <td>3</td>\n",
       "      <td>9</td>\n",
       "    </tr>\n",
       "    <tr>\n",
       "      <th>3</th>\n",
       "      <td>4</td>\n",
       "      <td>4</td>\n",
       "    </tr>\n",
       "    <tr>\n",
       "      <th>4</th>\n",
       "      <td>5</td>\n",
       "      <td>3</td>\n",
       "    </tr>\n",
       "  </tbody>\n",
       "</table>\n",
       "</div>"
      ],
      "text/plain": [
       "   ImageId  Label\n",
       "0        1      2\n",
       "1        2      0\n",
       "2        3      9\n",
       "3        4      4\n",
       "4        5      3"
      ]
     },
     "execution_count": 22,
     "metadata": {},
     "output_type": "execute_result"
    }
   ],
   "source": [
    "# create results dataframe\n",
    "res_df = pd.DataFrame({'ImageId':list(range(1, 28001)), 'Label':preds})\n",
    "res_df.head()"
   ]
  },
  {
   "cell_type": "code",
   "execution_count": 23,
   "id": "62c125c0",
   "metadata": {
    "execution": {
     "iopub.execute_input": "2023-06-28T10:29:29.756033Z",
     "iopub.status.busy": "2023-06-28T10:29:29.754749Z",
     "iopub.status.idle": "2023-06-28T10:29:29.827605Z",
     "shell.execute_reply": "2023-06-28T10:29:29.826411Z"
    },
    "papermill": {
     "duration": 0.495753,
     "end_time": "2023-06-28T10:29:29.830781",
     "exception": false,
     "start_time": "2023-06-28T10:29:29.335028",
     "status": "completed"
    },
    "tags": []
   },
   "outputs": [],
   "source": [
    "# write results to a csv file for submission\n",
    "res_df.to_csv('submission.csv', index=False)"
   ]
  }
 ],
 "metadata": {
  "kernelspec": {
   "display_name": "Python 3",
   "language": "python",
   "name": "python3"
  },
  "language_info": {
   "codemirror_mode": {
    "name": "ipython",
    "version": 3
   },
   "file_extension": ".py",
   "mimetype": "text/x-python",
   "name": "python",
   "nbconvert_exporter": "python",
   "pygments_lexer": "ipython3",
   "version": "3.10.10"
  },
  "papermill": {
   "default_parameters": {},
   "duration": 320.205057,
   "end_time": "2023-06-28T10:29:33.521955",
   "environment_variables": {},
   "exception": null,
   "input_path": "__notebook__.ipynb",
   "output_path": "__notebook__.ipynb",
   "parameters": {},
   "start_time": "2023-06-28T10:24:13.316898",
   "version": "2.4.0"
  }
 },
 "nbformat": 4,
 "nbformat_minor": 5
}
